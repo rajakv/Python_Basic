{
 "cells": [
  {
   "cell_type": "markdown",
   "id": "e4231b91-d7dc-47f0-b3e4-56e66ab758c1",
   "metadata": {},
   "source": [
    "\r\n",
    "1. Write a program that prints \"Hello, World!\" to the console.\r\n"
   ]
  },
  {
   "cell_type": "code",
   "execution_count": 1,
   "id": "87563daa-e24f-4f68-bc19-2d6823ef1b55",
   "metadata": {},
   "outputs": [
    {
     "name": "stdout",
     "output_type": "stream",
     "text": [
      "Hello World!\n"
     ]
    }
   ],
   "source": [
    "print('Hello World!')"
   ]
  },
  {
   "cell_type": "markdown",
   "id": "c251d13d-7e39-45ed-85d0-c9dfc3d5c2fc",
   "metadata": {},
   "source": [
    "2. Write a program that takes two integers as input and prints their sum."
   ]
  },
  {
   "cell_type": "code",
   "execution_count": 2,
   "id": "08944eec-2f62-4f2a-a085-d85b130f1fa2",
   "metadata": {},
   "outputs": [
    {
     "name": "stdin",
     "output_type": "stream",
     "text": [
      "Enter First Value: 3\n",
      "Enter Second Value: 5\n"
     ]
    },
    {
     "name": "stdout",
     "output_type": "stream",
     "text": [
      "Sum of Given Number is : 8\n"
     ]
    }
   ],
   "source": [
    "value1=int(input('Enter First Value:'))\n",
    "value2=int(input('Enter Second Value:'))\n",
    "Sum=lambda value1,value2 : value1+value2 \n",
    "print('Sum of Given Number is :' ,Sum(value1,value2))"
   ]
  },
  {
   "cell_type": "markdown",
   "id": "0585eb84-2074-489b-bbb5-3d9171d38fed",
   "metadata": {},
   "source": [
    "3. Write a program that takes a string as input and prints its length."
   ]
  },
  {
   "cell_type": "code",
   "execution_count": 3,
   "id": "3b6943b9-f0b5-426b-8aab-49c48facd1b6",
   "metadata": {},
   "outputs": [
    {
     "name": "stdin",
     "output_type": "stream",
     "text": [
      " vel\n"
     ]
    },
    {
     "name": "stdout",
     "output_type": "stream",
     "text": [
      "Length of Given String is : 3\n"
     ]
    }
   ],
   "source": [
    "string1=str(input())\n",
    "n=len(string1)\n",
    "print('Length of Given String is :',n)"
   ]
  },
  {
   "cell_type": "markdown",
   "id": "eb8f5d87-7cb7-4144-b922-7261a87dadfd",
   "metadata": {},
   "source": [
    "4. Write a program that takes a list of integers as input and prints the largest integer in the list.\n"
   ]
  },
  {
   "cell_type": "code",
   "execution_count": 4,
   "id": "1634c4a7-2e7f-40aa-b191-28e528aa3ed4",
   "metadata": {},
   "outputs": [
    {
     "name": "stdin",
     "output_type": "stream",
     "text": [
      "Enter the no.of  Elements: 4\n",
      " 12\n",
      " 34\n",
      " 21\n",
      " 1\n"
     ]
    },
    {
     "name": "stdout",
     "output_type": "stream",
     "text": [
      "The List Elements are: [12, 34, 21, 1]\n",
      "The Largest Element of Given List is  34\n"
     ]
    }
   ],
   "source": [
    "n=int(input('Enter the no.of  Elements:'))\n",
    "List1=[]\n",
    "for i in range(0,n):\n",
    "    i=int(input())\n",
    "    List1.append(i)\n",
    "print('The List Elements are:',List1)\n",
    "List1.sort()\n",
    "print('The Largest Element of Given List is ',List1[n-1])"
   ]
  },
  {
   "cell_type": "markdown",
   "id": "08332f93-d99e-49a1-9b8c-493996795f61",
   "metadata": {},
   "source": [
    "5. Write a program that takes a list of integers as input and returns a new list with only the even integers from the original list."
   ]
  },
  {
   "cell_type": "code",
   "execution_count": 6,
   "id": "4def36b1-1bf0-45b9-bf26-0ebea9584cf1",
   "metadata": {},
   "outputs": [
    {
     "name": "stdin",
     "output_type": "stream",
     "text": [
      "Enter the no.of Elements: 3\n",
      " 12\n",
      " 31\n",
      " 4\n"
     ]
    },
    {
     "name": "stdout",
     "output_type": "stream",
     "text": [
      "The List Elements are: [12, 31, 4]\n",
      "The even integers from the original list is  [12, 4]\n"
     ]
    }
   ],
   "source": [
    "n=int(input('Enter the no.of Elements:')) \n",
    "List1=[] \n",
    "for i in range(0,n):\n",
    "    i=int(input()) \n",
    "    List1.append(i) \n",
    "print('The List Elements are:',List1) \n",
    "List2=[] \n",
    "for i in range(len(List1)): \n",
    "    if List1[i] %2 ==0 : \n",
    "        List2.append(List1[i]) \n",
    "print('The even integers from the original list is ',List2)"
   ]
  },
  {
   "cell_type": "markdown",
   "id": "03de5ba2-450d-4a4a-a5eb-59fac39f3c9c",
   "metadata": {},
   "source": [
    "7. Write a program that takes a list of integers as input and returns a new list with the squares of each integer in the original list.\n"
   ]
  },
  {
   "cell_type": "code",
   "execution_count": 11,
   "id": "d9d87ba7-a08f-44a2-bc2f-1a4befcc5b5f",
   "metadata": {},
   "outputs": [
    {
     "name": "stdin",
     "output_type": "stream",
     "text": [
      "Enter the no.of Elements: 3\n",
      " 3\n",
      " 2\n",
      " 1\n"
     ]
    },
    {
     "name": "stdout",
     "output_type": "stream",
     "text": [
      "The List Elements are: [3, 2, 1]\n",
      "The squares of each integer in the original list [9, 4, 1]\n"
     ]
    }
   ],
   "source": [
    "n=int(input('Enter the no.of Elements:')) \n",
    "List1=[] \n",
    "for i in range(0,n):\n",
    "    i=int(input()) \n",
    "    List1.append(i) \n",
    "print('The List Elements are:',List1) \n",
    "List2=[]\n",
    "for i in range(len(List1)):\n",
    "    List2.append((List1[i])**2)\n",
    "print('The squares of each integer in the original list',List2)"
   ]
  },
  {
   "cell_type": "markdown",
   "id": "02bc879c-3ccb-432e-ad8b-b032ed174efb",
   "metadata": {},
   "source": [
    "8. Write a program that takes a list of integers as input and returns a new list with the integers sorted in descending order.\n"
   ]
  },
  {
   "cell_type": "code",
   "execution_count": 14,
   "id": "73d46820-3df9-4a07-aa4b-c0200874ed49",
   "metadata": {},
   "outputs": [
    {
     "name": "stdin",
     "output_type": "stream",
     "text": [
      "Enter the no.of Elements: 3\n",
      " 34\n",
      " 12\n",
      " 67\n"
     ]
    },
    {
     "name": "stdout",
     "output_type": "stream",
     "text": [
      "The List Elements are: [34, 12, 67]\n",
      "[67, 34, 12]\n"
     ]
    }
   ],
   "source": [
    "n=int(input('Enter the no.of Elements:')) \n",
    "List1=[] \n",
    "for i in range(0,n):\n",
    "    i=int(input()) \n",
    "    List1.append(i) \n",
    "print('The List Elements are:',List1) \n",
    "List1.sort(reverse = True)\n",
    "print('The integers sorted in descending order',List1)"
   ]
  },
  {
   "cell_type": "raw",
   "id": "d214fae0-6cbd-4b27-97ea-4355c1f98067",
   "metadata": {},
   "source": [
    "9. Write a program that takes two strings as input and concatenates them (joins them together) into a new string.\n"
   ]
  },
  {
   "cell_type": "code",
   "execution_count": 15,
   "id": "8b5c44db-d3fa-4853-a74c-84d3320e2981",
   "metadata": {},
   "outputs": [
    {
     "name": "stdin",
     "output_type": "stream",
     "text": [
      "Enter the String1: vel\n",
      "Enter the String2: murugan\n"
     ]
    },
    {
     "name": "stdout",
     "output_type": "stream",
     "text": [
      "Concatenated String is  velmurugan\n"
     ]
    }
   ],
   "source": [
    "string1=str(input('Enter the String1:'))\n",
    "string2=str(input('Enter the String2:'))\n",
    "string3=string1+string2\n",
    "print('Concatenated String is ', string3)"
   ]
  },
  {
   "cell_type": "markdown",
   "id": "58da9382-8907-4245-b466-b9fe5005702a",
   "metadata": {},
   "source": [
    "10. Write a program that takes a list of integers as input and returns the sum of all the even integers in the list."
   ]
  },
  {
   "cell_type": "code",
   "execution_count": 17,
   "id": "4f524a50-d474-457a-a457-c5e85b5a8429",
   "metadata": {},
   "outputs": [
    {
     "name": "stdin",
     "output_type": "stream",
     "text": [
      "Enter the no.of Elements: 3\n",
      " 3\n",
      " 2\n",
      " 2\n"
     ]
    },
    {
     "name": "stdout",
     "output_type": "stream",
     "text": [
      "The List Elements are: [3, 2, 2]\n",
      "The sum of all the even integers in the list is :  4\n"
     ]
    }
   ],
   "source": [
    "n=int(input('Enter the no.of Elements:')) \n",
    "List1=[] \n",
    "for i in range(0,n):\n",
    "    i=int(input()) \n",
    "    List1.append(i) \n",
    "print('The List Elements are:',List1) \n",
    "sum=0\n",
    "for i in range(len(List1)): \n",
    "    if List1[i] %2 ==0 : \n",
    "        sum=sum+List1[i] \n",
    "print('The sum of all the even integers in the list is : ',sum)"
   ]
  },
  {
   "cell_type": "markdown",
   "id": "10fb25d5-6717-495b-9a6a-aac62797e8d4",
   "metadata": {},
   "source": [
    "6. Write a program that takes a string as input and checks if it is a palindrome (a word, phrase, or sequence that reads the same backward as forward).\n"
   ]
  },
  {
   "cell_type": "code",
   "execution_count": 21,
   "id": "1463a300-d926-44c9-9f23-a4334c00f439",
   "metadata": {},
   "outputs": [
    {
     "name": "stdin",
     "output_type": "stream",
     "text": [
      "Enter the String: amma\n"
     ]
    },
    {
     "name": "stdout",
     "output_type": "stream",
     "text": [
      "Given string is Palindrome\n"
     ]
    }
   ],
   "source": [
    "string1=str(input('Enter the String:'))\n",
    "string2=string1[::-1]\n",
    "if (string1 == string2):\n",
    "    print('Given string is Palindrome')\n",
    "else:\n",
    "    print('Given String is not Palindrome')"
   ]
  },
  {
   "cell_type": "markdown",
   "id": "4990032e-4a94-49ff-a393-e17aa7536af0",
   "metadata": {},
   "source": [
    "11. Write a program that takes a string as input and removes all vowels from the string."
   ]
  },
  {
   "cell_type": "code",
   "execution_count": 23,
   "id": "68444268-0ef3-4419-8a0a-b79899a16076",
   "metadata": {},
   "outputs": [
    {
     "name": "stdin",
     "output_type": "stream",
     "text": [
      "Enter the String: alleiou\n"
     ]
    },
    {
     "name": "stdout",
     "output_type": "stream",
     "text": [
      "Without Vowels : ll\n"
     ]
    }
   ],
   "source": [
    "string1=str(input('Enter the String:'))\n",
    "vowels=('a','e','i','o','u')\n",
    "for i in string1.lower():\n",
    "    if i in vowels:\n",
    "        string1=string1.replace(i,'')\n",
    "print('Without Vowels :',string1)   "
   ]
  },
  {
   "cell_type": "markdown",
   "id": "c8620b9f-98ff-410b-9141-ea0d14fd7336",
   "metadata": {},
   "source": [
    "12. Write a program that takes a list of strings as input and returns a new list with only the strings that have a length greater than 5."
   ]
  },
  {
   "cell_type": "code",
   "execution_count": 25,
   "id": "23272f52-437d-4345-833d-f500aebc9cc0",
   "metadata": {},
   "outputs": [
    {
     "name": "stdin",
     "output_type": "stream",
     "text": [
      "Enter the no.of Elements: 3\n",
      " vel\n",
      " murugan\n",
      " vel\n"
     ]
    },
    {
     "name": "stdout",
     "output_type": "stream",
     "text": [
      "The List Elements are: ['vel', 'murugan', 'vel']\n",
      "New list with only the strings that have a length greater than 5 is : ['murugan']\n"
     ]
    }
   ],
   "source": [
    "n=int(input('Enter the no.of Elements:')) \n",
    "List1=[] \n",
    "for i in range(0,n):\n",
    "    i=str(input()) \n",
    "    List1.append(i) \n",
    "print('The List Elements are:',List1) \n",
    "List2=[]\n",
    "for i in range(len(List1)):\n",
    "    if (len(List1[i])>5):\n",
    "        List2.append(List1[i])\n",
    "print('New list with only the strings that have a length greater than 5 is :',List2)"
   ]
  },
  {
   "cell_type": "markdown",
   "id": "4ed40125-0937-4c73-8705-850b33381cfb",
   "metadata": {},
   "source": [
    "13. Write a program that takes a list of integers as input and returns the second-largest integer in the list."
   ]
  },
  {
   "cell_type": "code",
   "execution_count": 26,
   "id": "6d53361b-090b-422c-8f1e-3948f5af6495",
   "metadata": {},
   "outputs": [
    {
     "name": "stdin",
     "output_type": "stream",
     "text": [
      "Enter the no.of Elements: 3\n",
      " 4\n",
      " 5\n",
      " 6\n"
     ]
    },
    {
     "name": "stdout",
     "output_type": "stream",
     "text": [
      "The List Elements are: [4, 5, 6]\n",
      "The second-largest integer in the list is : 5\n"
     ]
    }
   ],
   "source": [
    "n=int(input('Enter the no.of Elements:')) \n",
    "List1=[] \n",
    "for i in range(0,n):\n",
    "    i=int(input()) \n",
    "    List1.append(i) \n",
    "print('The List Elements are:',List1) \n",
    "List1.sort()\n",
    "print('The second-largest integer in the list is :',List1[-2])"
   ]
  },
  {
   "cell_type": "markdown",
   "id": "9478fe1b-259b-40fd-9c62-0aee9f04b529",
   "metadata": {},
   "source": [
    "14. Write a program that takes a list of strings as input and returns a new list with the strings sorted in alphabetical order.\n"
   ]
  },
  {
   "cell_type": "code",
   "execution_count": 56,
   "id": "fd769f1d-f77f-4516-b92b-219983428849",
   "metadata": {},
   "outputs": [
    {
     "name": "stdin",
     "output_type": "stream",
     "text": [
      "Enter the no.of Elements: 3\n",
      " vel\n",
      " mur\n",
      " gan\n"
     ]
    },
    {
     "name": "stdout",
     "output_type": "stream",
     "text": [
      "The List Elements are: ['vel', 'mur', 'gan']\n",
      " New list with the strings sorted in alphabetical order is: [['e', 'l', 'v'], ['m', 'r', 'u'], ['a', 'g', 'n']]\n"
     ]
    }
   ],
   "source": [
    "n=int(input('Enter the no.of Elements:')) \n",
    "List1=[] \n",
    "for i in range(0,n):\n",
    "    i=str(input()) \n",
    "    List1.append(i) \n",
    "print('The List Elements are:',List1) \n",
    "List2=[]\n",
    "for i in range(len(List1)):\n",
    "    List2.append(sorted(List1[i], reverse=False))\n",
    "print(' New list with the strings sorted in alphabetical order is:',List2)"
   ]
  },
  {
   "cell_type": "markdown",
   "id": "c1583758-b9b5-46f0-bb01-a2dc9e05c218",
   "metadata": {},
   "source": [
    "15. Write a program that takes a list of integers as input and returns a new list with only the prime integers from the original list.\n"
   ]
  },
  {
   "cell_type": "code",
   "execution_count": 45,
   "id": "c82adca6-686f-4708-be0e-e040660c2700",
   "metadata": {},
   "outputs": [
    {
     "name": "stdin",
     "output_type": "stream",
     "text": [
      "Enter the no.of Elements: 3\n",
      " 4\n",
      " 5\n",
      " 6\n"
     ]
    },
    {
     "name": "stdout",
     "output_type": "stream",
     "text": [
      "The List Elements are: [4, 5, 6]\n",
      "The prime numbers in this range are:  []\n"
     ]
    }
   ],
   "source": [
    "n=int(input('Enter the no.of Elements:')) \n",
    "List1=[] \n",
    "for i in range(0,n):\n",
    "    i=int(input()) \n",
    "    List1.append(i) \n",
    "print('The List Elements are:',List1) \n",
    "List2=[]\n",
    "for i in range(0, len(List1)):\n",
    "     if i == 0 or i == 1:\n",
    "         continue\n",
    "     else:\n",
    "        for j in range(2, int(List1[i]/2)+1):\n",
    "             if i % j == 0:\n",
    "                  break\n",
    "             else:\n",
    "                List2.append(i)\n",
    "print(\"The prime numbers in this range are: \",List2)"
   ]
  },
  {
   "cell_type": "markdown",
   "id": "21d33a47-0085-4c16-aa80-42014ba09fcf",
   "metadata": {},
   "source": [
    "\n",
    "16. Write a program that takes a string as input and returns a new string with each word reversed.\n"
   ]
  },
  {
   "cell_type": "code",
   "execution_count": 44,
   "id": "356a88d9-a905-431a-a73b-06440f85fcd2",
   "metadata": {},
   "outputs": [
    {
     "name": "stdin",
     "output_type": "stream",
     "text": [
      "Enter the no.of Elements: 3\n",
      " vel\n",
      " mur\n",
      " gan\n"
     ]
    },
    {
     "name": "stdout",
     "output_type": "stream",
     "text": [
      "The List Elements are: ['vel', 'mur', 'gan']\n",
      "A new string with each word reversed List is : ['lev', 'rum', 'nag']\n"
     ]
    }
   ],
   "source": [
    "n=int(input('Enter the no.of Elements:')) \n",
    "List1=[] \n",
    "for i in range(0,n):\n",
    "    i=str(input()) \n",
    "    List1.append(i) \n",
    "print('The List Elements are:',List1) \n",
    "List2=[]\n",
    "for i in range(0,len(List1)):\n",
    "    List2.append(List1[i][::-1])\n",
    "print('A new string with each word reversed List is :',List2)"
   ]
  },
  {
   "cell_type": "markdown",
   "id": "d6aeaafc-a4ae-4f60-89bb-c02df45d1456",
   "metadata": {},
   "source": [
    "17. Write a program that takes a list of integers as input and returns the product of all the integers in the list.\n"
   ]
  },
  {
   "cell_type": "code",
   "execution_count": 47,
   "id": "8652dcfa-c16a-4cc4-a84b-7796110e4492",
   "metadata": {},
   "outputs": [
    {
     "name": "stdin",
     "output_type": "stream",
     "text": [
      "Enter the no.of Elements: 3\n",
      " 5\n",
      " 6\n",
      " 5\n"
     ]
    },
    {
     "name": "stdout",
     "output_type": "stream",
     "text": [
      "The List Elements are: [5, 6, 5]\n",
      "The Product of all the integers in the list is :  150\n"
     ]
    }
   ],
   "source": [
    "n=int(input('Enter the no.of Elements:')) \n",
    "List1=[] \n",
    "for i in range(0,n):\n",
    "    i=int(input()) \n",
    "    List1.append(i) \n",
    "print('The List Elements are:',List1) \n",
    "product=1\n",
    "for i in range(len(List1)): \n",
    "        product*=List1[i] \n",
    "print('The Product of all the integers in the list is : ',product)"
   ]
  },
  {
   "cell_type": "markdown",
   "id": "d90c8ae9-25d8-43c6-be96-f6825d62a180",
   "metadata": {},
   "source": [
    "18. Write a program that takes a list of integers as input and returns a new list with the integers in reverse order.\n"
   ]
  },
  {
   "cell_type": "code",
   "execution_count": 48,
   "id": "991b2136-73d3-4137-9c87-46dd5a2604d0",
   "metadata": {},
   "outputs": [
    {
     "name": "stdin",
     "output_type": "stream",
     "text": [
      "Enter the no.of Elements: 4\n",
      " 34\n",
      " 23\n",
      " 67\n",
      " 90\n"
     ]
    },
    {
     "name": "stdout",
     "output_type": "stream",
     "text": [
      "The List Elements are: [34, 23, 67, 90]\n",
      "The integers sorted in descending order [90, 67, 34, 23]\n"
     ]
    }
   ],
   "source": [
    "n=int(input('Enter the no.of Elements:')) \n",
    "List1=[] \n",
    "for i in range(0,n):\n",
    "    i=int(input()) \n",
    "    List1.append(i) \n",
    "print('The List Elements are:',List1) \n",
    "List1.sort(reverse = True)\n",
    "print('The integers sorted in descending order',List1)"
   ]
  },
  {
   "cell_type": "markdown",
   "id": "95e3fe26-64fd-4257-84ce-68927ae91503",
   "metadata": {},
   "source": [
    "19. Write a program that takes a list of strings as input and returns a new list with only the strings that contain the letter 'a'.\n"
   ]
  },
  {
   "cell_type": "code",
   "execution_count": 53,
   "id": "14a67b20-894d-432e-bc52-bfe227518399",
   "metadata": {},
   "outputs": [
    {
     "name": "stdin",
     "output_type": "stream",
     "text": [
      "Enter the no.of Elements: 3\n",
      " vel\n",
      " mur\n",
      " gan\n"
     ]
    },
    {
     "name": "stdout",
     "output_type": "stream",
     "text": [
      "The List Elements are: ['vel', 'mur', 'gan']\n",
      "New list with only the strings that contain the letter 'a' ['gan']\n"
     ]
    }
   ],
   "source": [
    "n=int(input('Enter the no.of Elements:')) \n",
    "List1=[] \n",
    "for i in range(0,n):\n",
    "    i=str(input()) \n",
    "    List1.append(i) \n",
    "print('The List Elements are:',List1) \n",
    "List2=[]\n",
    "check ='a'\n",
    "for i in range(len(List1)):\n",
    "    if check in List1[i].lower() :\n",
    "        List2.append(List1[i])\n",
    "print(\"New list with only the strings that contain the letter 'a'\",List2)"
   ]
  },
  {
   "cell_type": "markdown",
   "id": "290952b0-13ac-44ae-8e10-ded9e7606169",
   "metadata": {},
   "source": [
    "20. Write a program that takes a list of integers as input and returns a new list with only the integers that are multiples of 3."
   ]
  },
  {
   "cell_type": "code",
   "execution_count": 51,
   "id": "8457c3d8-83cf-47d9-b41c-fd8b7220750e",
   "metadata": {},
   "outputs": [
    {
     "name": "stdin",
     "output_type": "stream",
     "text": [
      "Enter the no.of Elements: 3\n",
      " 3\n",
      " 5\n",
      " 6\n"
     ]
    },
    {
     "name": "stdout",
     "output_type": "stream",
     "text": [
      "The List Elements are: [3, 5, 6]\n",
      "new list with only the integers that are multiples of 3 is [3, 6]\n"
     ]
    }
   ],
   "source": [
    "n=int(input('Enter the no.of Elements:')) \n",
    "List1=[] \n",
    "for i in range(0,n):\n",
    "    i=int(input()) \n",
    "    List1.append(i) \n",
    "print('The List Elements are:',List1) \n",
    "for i in range(len(List1)):\n",
    "    if List1[i]%3==0:\n",
    "        List2.append(List1[i])\n",
    "print('new list with only the integers that are multiples of 3 is',List2)"
   ]
  },
  {
   "cell_type": "markdown",
   "id": "e07c56cd-0aa9-40e1-98c6-b6e008912ea5",
   "metadata": {},
   "source": [
    "21.Program to check if a given year is a leap year or not."
   ]
  },
  {
   "cell_type": "code",
   "execution_count": 59,
   "id": "8fb666a9-f0a3-4772-a5c8-17f180f9a28d",
   "metadata": {},
   "outputs": [
    {
     "name": "stdin",
     "output_type": "stream",
     "text": [
      "Enter the Year: 2004\n"
     ]
    },
    {
     "name": "stdout",
     "output_type": "stream",
     "text": [
      "2004  is a leap year\n"
     ]
    }
   ],
   "source": [
    "year=int(input('Enter the Year:')) \n",
    "import calendar\n",
    "if calendar. isleap(year):\n",
    "    print(year, \" is a leap year\") \n",
    "else: \n",
    "    print(year, \"is not a leap year.\")"
   ]
  },
  {
   "cell_type": "markdown",
   "id": "ee62879f-5d6e-4b15-ad05-dc458e54e7b1",
   "metadata": {},
   "source": [
    "22.Function to check if a given string is a palindrome or not."
   ]
  },
  {
   "cell_type": "code",
   "execution_count": 63,
   "id": "78bac371-bfb2-4388-90f9-d81f64e0c8fb",
   "metadata": {},
   "outputs": [
    {
     "name": "stdin",
     "output_type": "stream",
     "text": [
      "Enter the String: appa\n"
     ]
    },
    {
     "name": "stdout",
     "output_type": "stream",
     "text": [
      "Palindrome\n"
     ]
    }
   ],
   "source": [
    "def palidrome_or_not(string1):\n",
    "    string2=string1[::-1]\n",
    "    if string1==string2:\n",
    "        print('Palindrome')\n",
    "    else:\n",
    "        print('Not Palindrome')\n",
    "string1=str(input('Enter the String:'))\n",
    "palidrome_or_not(string1)\n",
    "        "
   ]
  },
  {
   "cell_type": "markdown",
   "id": "20a8af31-df84-4688-acf5-14b65c1facfe",
   "metadata": {},
   "source": [
    "23.Create a class which returns a sum of two numbers."
   ]
  },
  {
   "cell_type": "code",
   "execution_count": 6,
   "id": "3e166328-1c42-44a2-98e7-6ae13172348e",
   "metadata": {},
   "outputs": [
    {
     "name": "stdout",
     "output_type": "stream",
     "text": [
      "Sum =  7\n"
     ]
    }
   ],
   "source": [
    "def add(x, y) :\n",
    "      return (x + y)\n",
    "if __name__ == \"__main__\":\n",
    "     print(\"Sum = \", add(3, 4))"
   ]
  },
  {
   "cell_type": "markdown",
   "id": "d2e3fa6f-d140-4ef2-a221-a573deee51ae",
   "metadata": {},
   "source": [
    "24.  Queue implementation in Python"
   ]
  },
  {
   "cell_type": "code",
   "execution_count": 7,
   "id": "1f7d783b-d0a2-487e-aff7-744a931e73c7",
   "metadata": {},
   "outputs": [
    {
     "name": "stdout",
     "output_type": "stream",
     "text": [
      "[1, 2, 3, 4, 5]\n",
      "After removing an element\n",
      "[2, 3, 4, 5]\n"
     ]
    }
   ],
   "source": [
    "class Queue:\n",
    "\n",
    "    def __init__(self):\n",
    "        self.queue = []\n",
    "\n",
    "    # Add an element\n",
    "    def enqueue(self, item):\n",
    "        self.queue.append(item)\n",
    "\n",
    "    # Remove an element\n",
    "    def dequeue(self):\n",
    "        if len(self.queue) < 1:\n",
    "            return None\n",
    "        return self.queue.pop(0)\n",
    "\n",
    "    # Display  the queue\n",
    "    def display(self):\n",
    "        print(self.queue)\n",
    "\n",
    "    def size(self):\n",
    "        return len(self.queue)\n",
    "\n",
    "\n",
    "q = Queue()\n",
    "q.enqueue(1)\n",
    "q.enqueue(2)\n",
    "q.enqueue(3)\n",
    "q.enqueue(4)\n",
    "q.enqueue(5)\n",
    "\n",
    "q.display()\n",
    "\n",
    "q.dequeue()\n",
    "\n",
    "print(\"After removing an element\")\n",
    "q.display()\n"
   ]
  },
  {
   "cell_type": "code",
   "execution_count": null,
   "id": "d06c122f-d9e7-4d16-a980-35453c2821ef",
   "metadata": {},
   "outputs": [],
   "source": []
  },
  {
   "cell_type": "code",
   "execution_count": 9,
   "id": "1b48a25d-16a1-421e-b68e-d33fe5c949b9",
   "metadata": {},
   "outputs": [
    {
     "name": "stdin",
     "output_type": "stream",
     "text": [
      "no.of elements  5\n",
      " 58\n",
      " 56\n",
      " 96\n",
      " 89\n",
      " 47\n"
     ]
    },
    {
     "name": "stdout",
     "output_type": "stream",
     "text": [
      "The Elements in list is : [58, 56, 96, 89, 47]\n",
      "The Highest Elements in List1 is : 96\n",
      "The Lowest Elements in List1 is : 47\n"
     ]
    }
   ],
   "source": [
    "n=int(input('no.of elements '))\n",
    "List1=[]\n",
    "for i in range(0,n):\n",
    "    i=int(input())\n",
    "    List1.append(i)\n",
    "print('The Elements in list is :',List1)\n",
    "List1.sort()\n",
    "print('The Highest Elements in List1 is :',List1[-1])\n",
    "print('The Lowest Elements in List1 is :',List1[0])"
   ]
  },
  {
   "cell_type": "code",
   "execution_count": null,
   "id": "48251ed8-bac5-4273-a885-b61cce70f468",
   "metadata": {},
   "outputs": [],
   "source": []
  }
 ],
 "metadata": {
  "kernelspec": {
   "display_name": "Python 3 (ipykernel)",
   "language": "python",
   "name": "python3"
  },
  "language_info": {
   "codemirror_mode": {
    "name": "ipython",
    "version": 3
   },
   "file_extension": ".py",
   "mimetype": "text/x-python",
   "name": "python",
   "nbconvert_exporter": "python",
   "pygments_lexer": "ipython3",
   "version": "3.11.0"
  }
 },
 "nbformat": 4,
 "nbformat_minor": 5
}
